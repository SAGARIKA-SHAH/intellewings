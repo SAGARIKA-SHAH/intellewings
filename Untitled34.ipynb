{
  "nbformat": 4,
  "nbformat_minor": 0,
  "metadata": {
    "colab": {
      "provenance": [],
      "authorship_tag": "ABX9TyMXIDO8hpQCabNSDP0zQalt",
      "include_colab_link": true
    },
    "kernelspec": {
      "name": "python3",
      "display_name": "Python 3"
    },
    "language_info": {
      "name": "python"
    }
  },
  "cells": [
    {
      "cell_type": "markdown",
      "metadata": {
        "id": "view-in-github",
        "colab_type": "text"
      },
      "source": [
        "<a href=\"https://colab.research.google.com/github/SAGARIKA-SHAH/intellewings/blob/main/Untitled34.ipynb\" target=\"_parent\"><img src=\"https://colab.research.google.com/assets/colab-badge.svg\" alt=\"Open In Colab\"/></a>"
      ]
    },
    {
      "cell_type": "code",
      "execution_count": null,
      "metadata": {
        "id": "JoA78u27fbSu"
      },
      "outputs": [],
      "source": [
        "import requests\n",
        "from bs4 import BeautifulSoup\n",
        "\n",
        "url = \"https://lnadbg4.adb.org/oga0009p.nsf/sancALL1P?OpenView&count=999\"\n",
        "\n",
        "# Send an HTTP request to the URL and get the response\n",
        "response = requests.get(url)\n",
        "\n",
        "# Use BeautifulSoup to parse the HTML content of the response\n",
        "soup = BeautifulSoup(response.content, \"html.parser\")\n"
      ]
    },
    {
      "cell_type": "code",
      "source": [
        "table = soup.find(\"table\", attrs={\"class\": \"viewTable\"})\n",
        "tbody = table.find(\"tbody\")\n",
        "rows = tbody.findAll(\"tr\")\n"
      ],
      "metadata": {
        "id": "pMiFyGPOfcfR"
      },
      "execution_count": null,
      "outputs": []
    },
    {
      "cell_type": "code",
      "source": [
        "data = []\n",
        "for row in rows:\n",
        "    cols = row.findAll(\"td\")\n",
        "    name = cols[0].text.strip()\n",
        "    # Ignore the \"Other Name/Logo\" column\n",
        "    if name == \"Other Name/Logo\":\n",
        "        continue\n",
        "    data.append({\n",
        "        \"uuid\": str(uuid.uuid4()),\n",
        "        \"Name\": name,\n",
        "        \"Entity Type\": None\n",
        "    })\n"
      ],
      "metadata": {
        "id": "J9U35vM5febV"
      },
      "execution_count": null,
      "outputs": []
    },
    {
      "cell_type": "code",
      "source": [
        "data = []\n",
        "for row in rows:\n",
        "    cols = row.findAll(\"td\")\n",
        "    name = cols[0].text.strip()\n",
        "    # Ignore the \"Other Name/Logo\" column\n",
        "    if name == \"Other Name/Logo\":\n",
        "        continue\n",
        "    data.append({\n",
        "        \"uuid\": str(uuid.uuid4()),\n",
        "        \"Name\": name,\n",
        "        \"Entity Type\": None\n",
        "    })\n"
      ],
      "metadata": {
        "id": "RGSaqjcBfhNv"
      },
      "execution_count": null,
      "outputs": []
    },
    {
      "cell_type": "code",
      "source": [
        "def predict_entity_type(name):\n",
        "    if \"organization\" in name.lower():\n",
        "        return \"Organization\"\n",
        "    else:\n",
        "        return \"Person\"\n",
        "\n",
        "for item in data:\n",
        "    item[\"Entity Type\"] = predict_entity_type(item[\"Name\"])\n"
      ],
      "metadata": {
        "id": "p8wvy5HyfkLn"
      },
      "execution_count": null,
      "outputs": []
    },
    {
      "cell_type": "code",
      "source": [
        "import json\n",
        "\n",
        "with open(\"results.json\", \"w\") as f:\n",
        "    json.dump(data, f)\n"
      ],
      "metadata": {
        "id": "U2FqDNWqfpfz"
      },
      "execution_count": null,
      "outputs": []
    },
    {
      "cell_type": "code",
      "source": [
        "import csv\n",
        "import pandas as pd\n",
        "\n",
        "df = pd.DataFrame(data)\n",
        "\n",
        "df.to_csv(\"results.csv\", index=False)\n"
      ],
      "metadata": {
        "id": "MNjESwqmfruh"
      },
      "execution_count": null,
      "outputs": []
    },
    {
      "cell_type": "code",
      "source": [
        "import seaborn as sns\n",
        "import matplotlib.pyplot as plt\n",
        "\n",
        "df = pd.read_csv(\"results.csv\")\n",
        "\n",
        "# Plot a bar chart of the entity types\n",
        "sns.countplot(x=\"Entity Type\", data=df)\n",
        "plt.show()\n"
      ],
      "metadata": {
        "id": "1UX04BkafvtF"
      },
      "execution_count": null,
      "outputs": []
    }
  ]
}